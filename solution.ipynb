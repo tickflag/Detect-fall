{
 "cells": [
  {
   "cell_type": "markdown",
   "metadata": {},
   "source": [
    "# ОПРЕДЕЛЕНИЕ СЛУЧАЕВ ПАДЕНИЯ ЧЕЛОВЕКА С ПОМОЩЬЮ ТЕХНОЛОГИЙ КОМПЬЮТЕРНОГО ЗРЕНИЯ \n",
    "\n",
    "## Описание проекта\n",
    "\n",
    "Проект **[Detect-fall](https://github.com/tickflag/Detect-fall)** представляет собой систему, разработанную для определения случаев падения человека с использованием технологий компьютерного зрения.\n",
    "\n",
    "### Авторы\n",
    "\n",
    "- Львов Станислав\n",
    "- Дмитриева Настя\n",
    "- Иванов Павел\n",
    "- Порфирьев Кирилл\n",
    "\n",
    "> Код проекта доступен на [GitHub](https://github.com/tickflag/Detect-fall)"
   ]
  },
  {
   "cell_type": "code",
   "execution_count": null,
   "metadata": {
    "vscode": {
     "languageId": "powershell"
    }
   },
   "outputs": [],
   "source": [
    "pip install ultralytics opencv-python catboost"
   ]
  },
  {
   "cell_type": "markdown",
   "metadata": {},
   "source": [
    "# Settings"
   ]
  },
  {
   "cell_type": "code",
   "execution_count": null,
   "metadata": {},
   "outputs": [],
   "source": [
    "import torch\n",
    "settings = {\n",
    "    'device': '0', #device to run on, i.e. cuda device='0/1/2/3' or device='cpu'\n",
    "    'source': './03.mp4', #Source directory for videos\n",
    "    'pose_model': './yolov8s-pose.pt' #Source directory for yolov8-pose model\n",
    "}\n",
    "if not torch.cuda.is_available():\n",
    "    settings['device'] = 'cpu'"
   ]
  },
  {
   "cell_type": "markdown",
   "metadata": {},
   "source": [
    "# DETECT-FALL"
   ]
  },
  {
   "cell_type": "markdown",
   "metadata": {},
   "source": [
    "- Обработка изображений с помощью **[yolov8](https://docs.ultralytics.com)**"
   ]
  },
  {
   "cell_type": "code",
   "execution_count": null,
   "metadata": {},
   "outputs": [],
   "source": [
    "from ultralytics import YOLO\n",
    "\n",
    "model_pose = YOLO('./yolov8s-pose.pt')\n",
    "\n",
    "def use_yolo(source):\n",
    "    return model_pose.predict(\n",
    "        source=source,\n",
    "        save=False, #While debugging True, else False\n",
    "        conf=0.5,\n",
    "        vid_stride=1,\n",
    "        device=settings['device'],\n",
    "        show_labels=False,\n",
    "        show_conf=False,\n",
    "        verbose=False,\n",
    "        show=False\n",
    "    )"
   ]
  },
  {
   "cell_type": "markdown",
   "metadata": {},
   "source": [
    "- Загрузка нашей модели"
   ]
  },
  {
   "cell_type": "code",
   "execution_count": null,
   "metadata": {},
   "outputs": [],
   "source": [
    "from catboost import CatBoostClassifier\n",
    "model = CatBoostClassifier()\n",
    "model.load_model('./cats-and-tea.json')"
   ]
  },
  {
   "cell_type": "markdown",
   "metadata": {},
   "source": [
    "- Основной код"
   ]
  },
  {
   "cell_type": "code",
   "execution_count": null,
   "metadata": {},
   "outputs": [],
   "source": [
    "from catboost import CatBoostClassifier\n",
    "import cv2\n",
    "import datetime\n",
    "from tkinter import messagebox\n",
    "import threading\n",
    "import tkinter as tk\n",
    "\n",
    "\n",
    "def process_frame(frame):\n",
    "    cv2.imwrite('./input.jpg', frame)\n",
    "    predict = check_pose('./input.jpg')\n",
    "\n",
    "    return predict\n",
    "\n",
    "def main():\n",
    "\n",
    "    frames = []\n",
    "    len_frames = 20\n",
    "\n",
    "    cv2.namedWindow(\"preview\")\n",
    "    vc = cv2.VideoCapture(settings['source'])\n",
    "    \n",
    "    if not vc.isOpened():\n",
    "        print(\"Error: Couldn't open video source.\")\n",
    "        return 0\n",
    "    \n",
    "    while True:\n",
    "        success, frame = vc.read()\n",
    "\n",
    "        if not success:\n",
    "            print(\"Error: Couldn't read frame.\")\n",
    "            break\n",
    "\n",
    "        fallen_people = process_frame(frame)\n",
    "        try:    \n",
    "            fallen_people = max(fallen_people) // max(fallen_people)\n",
    "        except Exception:\n",
    "            fallen_people = 0\n",
    "        frames.append(fallen_people)\n",
    "\n",
    "        if len(frames) > len_frames:\n",
    "            frames = frames[1::]\n",
    "        \n",
    "\n",
    "        if sum(frames) / len_frames >= 0.8: #TODO Попробовать различные коэффиценты в случае наличия времени на одном датасете и выбрать лучшее\n",
    "            print('человек упал\\n', '-' * 50)\n",
    "            x = threading.Thread(target=alarm_message)\n",
    "            x.start()\n",
    "            \n",
    "            frames = []\n",
    "            #TODO Написать функции запуска предупреждения через ткинтер в отдельном потоке или ченить другое использовать\n",
    "    vc.release()\n",
    "\n",
    "\n",
    "\n",
    "def check_pose(frame):\n",
    "    time = datetime.datetime.now()\n",
    "    result = use_yolo(frame)\n",
    "    keypoints = []\n",
    "    for res in result:\n",
    "        for element in res:\n",
    "            data = [0.0, 0.0]\n",
    "            box = element.boxes.cpu().numpy().xyxy[0]\n",
    "            for keypoint in element.keypoints.cpu().numpy().xy[0]:\n",
    "                data[0] += round(int(keypoint[0]) / int(box[-1]), 3)\n",
    "                data[1] += round(int(keypoint[1]) / int(box[2]), 3)\n",
    "            keypoints.append(data)\n",
    "    \n",
    "    #print(f'Разметка и подготовка - {datetime.datetime.now() - time}')\n",
    "\n",
    "    out_list = []\n",
    "\n",
    "    for input_data in keypoints:\n",
    "        metric = model.predict(prediction_type='Probability', data=input_data)\n",
    "        out_list.append(0 if metric[0] >= metric[1] else 1)\n",
    "        #print('Вероятность падения: ',metric[1])\n",
    "    #print(datetime.datetime.now() - time)\n",
    "    return out_list\n",
    "\n",
    "def alarm_message():\n",
    "    messagebox.showwarning(title='Внимание', message='Обнаружен упавший человек!')\n",
    "\n",
    "if __name__ == '__main__':\n",
    "    main()"
   ]
  }
 ],
 "metadata": {
  "kernelspec": {
   "display_name": "Python 3",
   "language": "python",
   "name": "python3"
  },
  "language_info": {
   "codemirror_mode": {
    "name": "ipython",
    "version": 3
   },
   "file_extension": ".py",
   "mimetype": "text/x-python",
   "name": "python",
   "nbconvert_exporter": "python",
   "pygments_lexer": "ipython3",
   "version": "3.11.5"
  }
 },
 "nbformat": 4,
 "nbformat_minor": 2
}
