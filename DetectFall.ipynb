{
 "cells": [
  {
   "cell_type": "markdown",
   "metadata": {},
   "source": [
    "## ОПРЕДЕЛЕНИЕ СЛУЧАЕВ ПАДЕНИЯ ЧЕЛОВЕКА С ПОМОЩЬЮ ТЕХНОЛОГИЙ КОМПЬЮТЕРНОГО ЗРЕНИЯ ##\n",
    "**Описание проекта**\n",
    "Проект **[Detect-fall](https://github.com/tickflag/Detect-fall)** представляет собой систему, разработанную для определения случаев падения человека с использованием технологий компьютерного зрения.\n",
    "\n",
    "**Авторы**\n",
    "- Львов Станислав\n",
    "- Дмитриева Настя\n",
    "- Иванов Павел\n",
    "- Порфирьев Кирилл\n",
    "\n",
    "> Код проекта доступен на [GitHub](https://github.com/tickflag/Detect-fall)\n"
   ]
  },
  {
   "cell_type": "markdown",
   "metadata": {},
   "source": [
    "# Installation"
   ]
  },
  {
   "cell_type": "code",
   "execution_count": null,
   "metadata": {
    "vscode": {
     "languageId": "powershell"
    }
   },
   "outputs": [],
   "source": [
    "pip install ultralytics opencv-python numpy"
   ]
  },
  {
   "cell_type": "markdown",
   "metadata": {},
   "source": [
    "# Settings"
   ]
  },
  {
   "cell_type": "code",
   "execution_count": null,
   "metadata": {},
   "outputs": [],
   "source": [
    "import torch\n",
    "settings = {\n",
    "    'device': '0', #device to run on, i.e. cuda device='0/1/2/3' or device='cpu'\n",
    "    'source': 'datasets/our-images/04.mp4', #Source directory for videos\n",
    "    'pose_model': 'yolov8s-pose.pt' #Source directory for yolov8-pose model\n",
    "}\n",
    "if not torch.cuda.is_available():\n",
    "    settings['device'] = 'cpu'"
   ]
  },
  {
   "cell_type": "markdown",
   "metadata": {},
   "source": [
    "# Imports"
   ]
  },
  {
   "cell_type": "code",
   "execution_count": null,
   "metadata": {},
   "outputs": [],
   "source": [
    "from ultralytics import YOLO\n",
    "import cv2\n",
    "import datetime\n",
    "from tkinter import messagebox\n",
    "import numpy as np\n",
    "import math \n",
    "import threading"
   ]
  },
  {
   "cell_type": "markdown",
   "metadata": {},
   "source": [
    "# DETECT-FALL"
   ]
  },
  {
   "cell_type": "markdown",
   "metadata": {},
   "source": [
    "- Обработка изображений с помощью **[yolov8](https://docs.ultralytics.com)**"
   ]
  },
  {
   "cell_type": "code",
   "execution_count": null,
   "metadata": {},
   "outputs": [],
   "source": [
    "model_pose = YOLO(settings['pose_model'])\n",
    "\n",
    "def yolo_pose(source):\n",
    "    return model_pose.predict(\n",
    "        source=source, save=True, conf=0.3, device=0\n",
    "    )"
   ]
  },
  {
   "cell_type": "markdown",
   "metadata": {},
   "source": [
    "- Расчитываем лежит ли человек"
   ]
  },
  {
   "cell_type": "code",
   "execution_count": null,
   "metadata": {},
   "outputs": [],
   "source": [
    "def detect_fall(source):\n",
    "    peoples = []\n",
    "    pose = yolo_pose(source=source)\n",
    "\n",
    "    for res1 in pose:\n",
    "        for element1 in res1:\n",
    "            box = element1.boxes.cpu().numpy().xyxy[0]\n",
    "            pose = element1.keypoints.cpu().numpy().xy[0]\n",
    "            speed = xy_speed(box)\n",
    "            chance = predict_possition_pose(pose=pose)\n",
    "            peoples.append([chance, speed])\n",
    "    \n",
    "    return peoples\n",
    "\n",
    "def xy_speed(xy): #TODO Сделать алгоритм высчитывания угловой скорости\n",
    "    return 0\n",
    "\n",
    "def predict_possition_pose(pose):\n",
    "\n",
    "    left_shoulder = pose[5]\n",
    "    right_shoulder = pose[6]\n",
    "    left_hip = pose[11]\n",
    "    right_hip = pose[12]\n",
    "    \n",
    "    head = pose[0]\n",
    "\n",
    "    if [head[0], head[1]] == [0.0, 0.0]:\n",
    "        for head_element in range(1, 4):\n",
    "            if pose[head_element][0] != 0.0 and pose[head_element][1] != 0.0: \n",
    "                head = pose[head_element] \n",
    "                break\n",
    "    \n",
    "    angles = first_arg(left_shoulder=left_shoulder, left_hip=left_hip,\n",
    "            right_shoulder=right_shoulder, right_hip=right_hip)\n",
    "    btoa = second_arg(left_shoulder=left_shoulder, left_hip=left_hip, \n",
    "            right_shoulder=right_shoulder, right_hip=right_hip)\n",
    "    head_pose = third_arg(head=head, left_shoulder=left_shoulder, right_shoulder=right_shoulder)\n",
    "\n",
    "    first = first_coef(angles=angles)\n",
    "    second = second_coef(btoa=btoa)\n",
    "    third = third_coef(head_pose=head_pose)\n",
    "\n",
    "    return (first + second + third) / 3\n",
    "\n",
    "def first_arg(left_shoulder, left_hip, right_shoulder, right_hip):\n",
    "\n",
    "    alpha = None\n",
    "    betta = None\n",
    "\n",
    "    if ([left_shoulder[0], left_shoulder[1]] != [0.0, 0.0]) and ([left_hip[0], left_hip[1]] != [0.0, 0.0]):\n",
    "        alpha = get_angle(left_shoulder, left_hip)\n",
    "    if ([right_shoulder[0], right_shoulder[1]] != [0.0, 0.0]) and ([right_hip[0], right_hip[1]] != [0.0, 0.0]):\n",
    "        betta = get_angle(right_shoulder, right_hip)\n",
    "\n",
    "    return [alpha, betta]\n",
    "\n",
    "def get_angle(arg0, arg1):\n",
    "    yy = abs(arg0[1] - arg1[1])\n",
    "    xx = abs(arg0[0] - arg1[0])\n",
    "    c = math.sqrt(math.pow(yy, 2) + math.pow(xx, 2))\n",
    "\n",
    "    return (int(math.acos(yy / c) * 180 / math.pi))\n",
    "\n",
    "def second_arg(left_shoulder, left_hip, right_shoulder, right_hip):\n",
    "\n",
    "    c = None\n",
    "    d = None\n",
    "\n",
    "    if ([left_shoulder[0], left_shoulder[1]] != [0.0, 0.0]) and ([left_hip[0], left_hip[1]] != [0.0, 0.0]):\n",
    "        c = get_angle(left_shoulder, left_hip)\n",
    "    if ([right_shoulder[0], right_shoulder[1]] != [0.0, 0.0]) and ([right_hip[0], right_hip[1]] != [0.0, 0.0]):\n",
    "        d = get_angle(right_shoulder, right_hip)\n",
    "\n",
    "    return [c, d]\n",
    "\n",
    "def get_(arg0, arg1):\n",
    "    a = abs(arg0[0] - arg1[0])\n",
    "    b = abs(arg0[1] - arg1[1])\n",
    "    return b / a\n",
    "\n",
    "def third_arg(head, left_shoulder, right_shoulder):\n",
    "\n",
    "    is_above = above(head=head, left_shoulder=left_shoulder, right_shoulder=right_shoulder)\n",
    "    is_right = rigth(head=head, left_shoulder=left_shoulder, right_shoulder=right_shoulder)\n",
    "    is_left = left(head=head, left_shoulder=left_shoulder, right_shoulder=right_shoulder)\n",
    "\n",
    "    if is_above:\n",
    "        return False\n",
    "    elif is_right or is_left:\n",
    "        return True\n",
    "    else:\n",
    "        return 2\n",
    "\n",
    "def above(head, left_shoulder, right_shoulder):\n",
    "    return (head[1] < left_shoulder[1]) and (head[1] < right_shoulder[1])\n",
    "\n",
    "def rigth(head, left_shoulder, right_shoulder):\n",
    "    first = ((head[0] >= left_shoulder[0] and head[0] >= right_shoulder[0]) and \\\n",
    "        (right_shoulder[1] <= head[1] and left_shoulder[1] >= head[1]))\n",
    "    second = ((head[0] >= left_shoulder[0] and head[0] <= right_shoulder[0]) and \\\n",
    "        (right_shoulder[1] <= head[1] and left_shoulder[1] >= head[1]))\n",
    "    \n",
    "    return first or second\n",
    "\n",
    "def left(head, left_shoulder, right_shoulder):\n",
    "    first = ((head[0] <= left_shoulder[0] and head[0] <= right_shoulder[0]) and \\\n",
    "        (right_shoulder[1] >= head[1] and left_shoulder[1] <= head[1]))\n",
    "    second = ((head[0] >= left_shoulder[0] and head[0] <= right_shoulder[0]) and \\\n",
    "        (right_shoulder[1] >= head[1] and left_shoulder[1] <= head[1]))\n",
    "    \n",
    "    return first or second\n",
    "\n",
    "def first_coef(angles):\n",
    "    try: first = angles[0] // 30 > 0 \n",
    "    except: first = 0.25\n",
    "    try: second = angles[1] // 30 > 0\n",
    "    except: second = 0.25\n",
    "\n",
    "    return (int(first) + int(second)) / 2\n",
    "\n",
    "def second_coef(btoa):\n",
    "    try: first = btoa[0] < 1\n",
    "    except: first = 0.25\n",
    "    try: second = btoa[1] < 1\n",
    "    except: second = 0.25\n",
    "\n",
    "    return (int(first) + int(second)) / 2\n",
    "\n",
    "def third_coef(head_pose):\n",
    "    return head_pose / 2"
   ]
  },
  {
   "cell_type": "markdown",
   "metadata": {},
   "source": [
    "- Инициализация"
   ]
  },
  {
   "cell_type": "code",
   "execution_count": null,
   "metadata": {},
   "outputs": [],
   "source": [
    "def process_frame(frame):\n",
    "    cv2.imwrite('input.jpg', frame)\n",
    "    peoples = detect_fall('input.jpg')\n",
    "    print(peoples)\n",
    "    return sum(1 for person in peoples if person[0] >= 0.5)\n",
    "\n",
    "def main():\n",
    "    full = datetime.datetime.now()\n",
    "    all_frames = 0\n",
    "    \n",
    "    cv2.namedWindow(\"preview\")\n",
    "    vc = cv2.VideoCapture(settings['source'])\n",
    "    \n",
    "    if not vc.isOpened():\n",
    "        print(\"Error: Couldn't open video source.\")\n",
    "        return 0\n",
    "    \n",
    "    requared_frames = 5\n",
    "    frames = 0\n",
    "    \n",
    "    while True:\n",
    "        success, frame = vc.read()\n",
    "        \n",
    "        if not success:\n",
    "            print(\"Error: Couldn't read frame.\")\n",
    "            break\n",
    "\n",
    "        lay_persons = process_frame(frame)\n",
    "\n",
    "        if lay_persons > 0:\n",
    "            frames += 1\n",
    "        else:\n",
    "            frames = 0\n",
    "\n",
    "        if frames == requared_frames:\n",
    "            print(\"Человек упал\")\n",
    "            print('-' * 50, '\\n')\n",
    "            frames = 0\n",
    "            alarm_message()\n",
    "    vc.release()\n",
    "    print(f\"time taken {datetime.datetime.now() - full}\")\n",
    "\n",
    "def alarm_message():\n",
    "    messagebox.showwarning(\"Alarm\", \"Обнаружен упавший человек\")\n",
    "\n",
    "\n",
    "if __name__ == \"__main__\":\n",
    "    main()\n"
   ]
  }
 ],
 "metadata": {
  "kernelspec": {
   "display_name": "Python 3",
   "language": "python",
   "name": "python3"
  },
  "language_info": {
   "codemirror_mode": {
    "name": "ipython",
    "version": 3
   },
   "file_extension": ".py",
   "mimetype": "text/x-python",
   "name": "python",
   "nbconvert_exporter": "python",
   "pygments_lexer": "ipython3",
   "version": "3.11.5"
  }
 },
 "nbformat": 4,
 "nbformat_minor": 2
}
